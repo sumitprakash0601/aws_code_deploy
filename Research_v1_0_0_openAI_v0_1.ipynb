{
  "cells": [
    {
      "cell_type": "markdown",
      "metadata": {
        "id": "view-in-github",
        "colab_type": "text"
      },
      "source": [
        "<a href=\"https://colab.research.google.com/github/sumitprakash0601/aws_code_deploy/blob/master/Research_v1_0_0_openAI_v0_1.ipynb\" target=\"_parent\"><img src=\"https://colab.research.google.com/assets/colab-badge.svg\" alt=\"Open In Colab\"/></a>"
      ]
    },
    {
      "cell_type": "markdown",
      "metadata": {
        "id": "fEnYrrZ-zT34"
      },
      "source": [
        "# Create A Crew of Agents To DO Research\n",
        "\n"
      ]
    },
    {
      "cell_type": "code",
      "source": [
        "!pip install numpy==1.25.2\n",
        "!pip install crewai==0.28.8 crewai_tools==0.1.6 langchain_community==0.0.29"
      ],
      "metadata": {
        "id": "gFbX-PrIzb1k",
        "colab": {
          "base_uri": "https://localhost:8080/"
        },
        "outputId": "9e13c7a4-b0e1-4f4b-e4fa-9569c9dd3a02"
      },
      "execution_count": 28,
      "outputs": [
        {
          "output_type": "stream",
          "name": "stdout",
          "text": [
            "Collecting numpy==1.25.2\n",
            "  Using cached numpy-1.25.2.tar.gz (10.8 MB)\n",
            "  Installing build dependencies ... \u001b[?25l\u001b[?25hdone\n",
            "  \u001b[1;31merror\u001b[0m: \u001b[1msubprocess-exited-with-error\u001b[0m\n",
            "  \n",
            "  \u001b[31m×\u001b[0m \u001b[32mGetting requirements to build wheel\u001b[0m did not run successfully.\n",
            "  \u001b[31m│\u001b[0m exit code: \u001b[1;36m1\u001b[0m\n",
            "  \u001b[31m╰─>\u001b[0m See above for output.\n",
            "  \n",
            "  \u001b[1;35mnote\u001b[0m: This error originates from a subprocess, and is likely not a problem with pip.\n",
            "  Getting requirements to build wheel ... \u001b[?25l\u001b[?25herror\n",
            "\u001b[1;31merror\u001b[0m: \u001b[1msubprocess-exited-with-error\u001b[0m\n",
            "\n",
            "\u001b[31m×\u001b[0m \u001b[32mGetting requirements to build wheel\u001b[0m did not run successfully.\n",
            "\u001b[31m│\u001b[0m exit code: \u001b[1;36m1\u001b[0m\n",
            "\u001b[31m╰─>\u001b[0m See above for output.\n",
            "\n",
            "\u001b[1;35mnote\u001b[0m: This error originates from a subprocess, and is likely not a problem with pip.\n",
            "Requirement already satisfied: crewai==0.28.8 in /usr/local/lib/python3.12/dist-packages (0.28.8)\n",
            "Requirement already satisfied: crewai_tools==0.1.6 in /usr/local/lib/python3.12/dist-packages (0.1.6)\n",
            "Requirement already satisfied: langchain_community==0.0.29 in /usr/local/lib/python3.12/dist-packages (0.0.29)\n",
            "Requirement already satisfied: appdirs<2.0.0,>=1.4.4 in /usr/local/lib/python3.12/dist-packages (from crewai==0.28.8) (1.4.4)\n",
            "Requirement already satisfied: click<9.0.0,>=8.1.7 in /usr/local/lib/python3.12/dist-packages (from crewai==0.28.8) (8.1.7)\n",
            "Requirement already satisfied: embedchain<0.2.0,>=0.1.98 in /usr/local/lib/python3.12/dist-packages (from crewai==0.28.8) (0.1.113)\n",
            "Requirement already satisfied: instructor<0.6.0,>=0.5.2 in /usr/local/lib/python3.12/dist-packages (from crewai==0.28.8) (0.5.2)\n",
            "Requirement already satisfied: langchain<0.2.0,>=0.1.10 in /usr/local/lib/python3.12/dist-packages (from crewai==0.28.8) (0.1.13)\n",
            "Requirement already satisfied: openai<2.0.0,>=1.13.3 in /usr/local/lib/python3.12/dist-packages (from crewai==0.28.8) (1.100.0)\n",
            "Requirement already satisfied: opentelemetry-api<2.0.0,>=1.22.0 in /usr/local/lib/python3.12/dist-packages (from crewai==0.28.8) (1.36.0)\n",
            "Requirement already satisfied: opentelemetry-exporter-otlp-proto-http<2.0.0,>=1.22.0 in /usr/local/lib/python3.12/dist-packages (from crewai==0.28.8) (1.36.0)\n",
            "Requirement already satisfied: opentelemetry-sdk<2.0.0,>=1.22.0 in /usr/local/lib/python3.12/dist-packages (from crewai==0.28.8) (1.36.0)\n",
            "Requirement already satisfied: pydantic<3.0.0,>=2.4.2 in /usr/local/lib/python3.12/dist-packages (from crewai==0.28.8) (2.11.7)\n",
            "Requirement already satisfied: python-dotenv==1.0.0 in /usr/local/lib/python3.12/dist-packages (from crewai==0.28.8) (1.0.0)\n",
            "Requirement already satisfied: regex<2024.0.0,>=2023.12.25 in /usr/local/lib/python3.12/dist-packages (from crewai==0.28.8) (2023.12.25)\n",
            "Requirement already satisfied: beautifulsoup4<5.0.0,>=4.12.3 in /usr/local/lib/python3.12/dist-packages (from crewai_tools==0.1.6) (4.13.4)\n",
            "Requirement already satisfied: chromadb<0.5.0,>=0.4.22 in /usr/local/lib/python3.12/dist-packages (from crewai_tools==0.1.6) (0.4.24)\n",
            "Requirement already satisfied: lancedb<0.6.0,>=0.5.4 in /usr/local/lib/python3.12/dist-packages (from crewai_tools==0.1.6) (0.5.7)\n",
            "Requirement already satisfied: pyright<2.0.0,>=1.1.350 in /usr/local/lib/python3.12/dist-packages (from crewai_tools==0.1.6) (1.1.404)\n",
            "Requirement already satisfied: pytest<9.0.0,>=8.0.0 in /usr/local/lib/python3.12/dist-packages (from crewai_tools==0.1.6) (8.4.1)\n",
            "Requirement already satisfied: pytube<16.0.0,>=15.0.0 in /usr/local/lib/python3.12/dist-packages (from crewai_tools==0.1.6) (15.0.0)\n",
            "Requirement already satisfied: requests<3.0.0,>=2.31.0 in /usr/local/lib/python3.12/dist-packages (from crewai_tools==0.1.6) (2.32.4)\n",
            "Requirement already satisfied: selenium<5.0.0,>=4.18.1 in /usr/local/lib/python3.12/dist-packages (from crewai_tools==0.1.6) (4.35.0)\n",
            "Requirement already satisfied: PyYAML>=5.3 in /usr/local/lib/python3.12/dist-packages (from langchain_community==0.0.29) (6.0.2)\n",
            "Requirement already satisfied: SQLAlchemy<3,>=1.4 in /usr/local/lib/python3.12/dist-packages (from langchain_community==0.0.29) (2.0.43)\n",
            "Requirement already satisfied: aiohttp<4.0.0,>=3.8.3 in /usr/local/lib/python3.12/dist-packages (from langchain_community==0.0.29) (3.12.15)\n",
            "Requirement already satisfied: dataclasses-json<0.7,>=0.5.7 in /usr/local/lib/python3.12/dist-packages (from langchain_community==0.0.29) (0.6.7)\n",
            "Requirement already satisfied: langchain-core<0.2.0,>=0.1.33 in /usr/local/lib/python3.12/dist-packages (from langchain_community==0.0.29) (0.1.53)\n",
            "Requirement already satisfied: langsmith<0.2.0,>=0.1.0 in /usr/local/lib/python3.12/dist-packages (from langchain_community==0.0.29) (0.1.147)\n",
            "Requirement already satisfied: numpy<2,>=1 in /usr/local/lib/python3.12/dist-packages (from langchain_community==0.0.29) (1.26.4)\n",
            "Requirement already satisfied: tenacity<9.0.0,>=8.1.0 in /usr/local/lib/python3.12/dist-packages (from langchain_community==0.0.29) (8.5.0)\n",
            "Requirement already satisfied: aiohappyeyeballs>=2.5.0 in /usr/local/lib/python3.12/dist-packages (from aiohttp<4.0.0,>=3.8.3->langchain_community==0.0.29) (2.6.1)\n",
            "Requirement already satisfied: aiosignal>=1.4.0 in /usr/local/lib/python3.12/dist-packages (from aiohttp<4.0.0,>=3.8.3->langchain_community==0.0.29) (1.4.0)\n",
            "Requirement already satisfied: attrs>=17.3.0 in /usr/local/lib/python3.12/dist-packages (from aiohttp<4.0.0,>=3.8.3->langchain_community==0.0.29) (25.3.0)\n",
            "Requirement already satisfied: frozenlist>=1.1.1 in /usr/local/lib/python3.12/dist-packages (from aiohttp<4.0.0,>=3.8.3->langchain_community==0.0.29) (1.7.0)\n",
            "Requirement already satisfied: multidict<7.0,>=4.5 in /usr/local/lib/python3.12/dist-packages (from aiohttp<4.0.0,>=3.8.3->langchain_community==0.0.29) (6.6.4)\n",
            "Requirement already satisfied: propcache>=0.2.0 in /usr/local/lib/python3.12/dist-packages (from aiohttp<4.0.0,>=3.8.3->langchain_community==0.0.29) (0.3.2)\n",
            "Requirement already satisfied: yarl<2.0,>=1.17.0 in /usr/local/lib/python3.12/dist-packages (from aiohttp<4.0.0,>=3.8.3->langchain_community==0.0.29) (1.20.1)\n",
            "Requirement already satisfied: soupsieve>1.2 in /usr/local/lib/python3.12/dist-packages (from beautifulsoup4<5.0.0,>=4.12.3->crewai_tools==0.1.6) (2.7)\n",
            "Requirement already satisfied: typing-extensions>=4.0.0 in /usr/local/lib/python3.12/dist-packages (from beautifulsoup4<5.0.0,>=4.12.3->crewai_tools==0.1.6) (4.14.1)\n",
            "Requirement already satisfied: build>=1.0.3 in /usr/local/lib/python3.12/dist-packages (from chromadb<0.5.0,>=0.4.22->crewai_tools==0.1.6) (1.3.0)\n",
            "Requirement already satisfied: chroma-hnswlib==0.7.3 in /usr/local/lib/python3.12/dist-packages (from chromadb<0.5.0,>=0.4.22->crewai_tools==0.1.6) (0.7.3)\n",
            "Requirement already satisfied: fastapi>=0.95.2 in /usr/local/lib/python3.12/dist-packages (from chromadb<0.5.0,>=0.4.22->crewai_tools==0.1.6) (0.116.1)\n",
            "Requirement already satisfied: uvicorn>=0.18.3 in /usr/local/lib/python3.12/dist-packages (from uvicorn[standard]>=0.18.3->chromadb<0.5.0,>=0.4.22->crewai_tools==0.1.6) (0.35.0)\n",
            "Requirement already satisfied: posthog>=2.4.0 in /usr/local/lib/python3.12/dist-packages (from chromadb<0.5.0,>=0.4.22->crewai_tools==0.1.6) (3.25.0)\n",
            "Requirement already satisfied: pulsar-client>=3.1.0 in /usr/local/lib/python3.12/dist-packages (from chromadb<0.5.0,>=0.4.22->crewai_tools==0.1.6) (3.8.0)\n",
            "Requirement already satisfied: onnxruntime>=1.14.1 in /usr/local/lib/python3.12/dist-packages (from chromadb<0.5.0,>=0.4.22->crewai_tools==0.1.6) (1.22.1)\n",
            "Requirement already satisfied: opentelemetry-exporter-otlp-proto-grpc>=1.2.0 in /usr/local/lib/python3.12/dist-packages (from chromadb<0.5.0,>=0.4.22->crewai_tools==0.1.6) (1.36.0)\n",
            "Requirement already satisfied: opentelemetry-instrumentation-fastapi>=0.41b0 in /usr/local/lib/python3.12/dist-packages (from chromadb<0.5.0,>=0.4.22->crewai_tools==0.1.6) (0.57b0)\n",
            "Requirement already satisfied: tokenizers>=0.13.2 in /usr/local/lib/python3.12/dist-packages (from chromadb<0.5.0,>=0.4.22->crewai_tools==0.1.6) (0.21.4)\n",
            "Requirement already satisfied: pypika>=0.48.9 in /usr/local/lib/python3.12/dist-packages (from chromadb<0.5.0,>=0.4.22->crewai_tools==0.1.6) (0.48.9)\n",
            "Requirement already satisfied: tqdm>=4.65.0 in /usr/local/lib/python3.12/dist-packages (from chromadb<0.5.0,>=0.4.22->crewai_tools==0.1.6) (4.67.1)\n",
            "Requirement already satisfied: overrides>=7.3.1 in /usr/local/lib/python3.12/dist-packages (from chromadb<0.5.0,>=0.4.22->crewai_tools==0.1.6) (7.7.0)\n",
            "Requirement already satisfied: importlib-resources in /usr/local/lib/python3.12/dist-packages (from chromadb<0.5.0,>=0.4.22->crewai_tools==0.1.6) (6.5.2)\n",
            "Requirement already satisfied: grpcio>=1.58.0 in /usr/local/lib/python3.12/dist-packages (from chromadb<0.5.0,>=0.4.22->crewai_tools==0.1.6) (1.74.0)\n",
            "Requirement already satisfied: bcrypt>=4.0.1 in /usr/local/lib/python3.12/dist-packages (from chromadb<0.5.0,>=0.4.22->crewai_tools==0.1.6) (4.3.0)\n",
            "Requirement already satisfied: typer>=0.9.0 in /usr/local/lib/python3.12/dist-packages (from chromadb<0.5.0,>=0.4.22->crewai_tools==0.1.6) (0.9.4)\n",
            "Requirement already satisfied: kubernetes>=28.1.0 in /usr/local/lib/python3.12/dist-packages (from chromadb<0.5.0,>=0.4.22->crewai_tools==0.1.6) (33.1.0)\n",
            "Requirement already satisfied: mmh3>=4.0.1 in /usr/local/lib/python3.12/dist-packages (from chromadb<0.5.0,>=0.4.22->crewai_tools==0.1.6) (5.2.0)\n",
            "Requirement already satisfied: orjson>=3.9.12 in /usr/local/lib/python3.12/dist-packages (from chromadb<0.5.0,>=0.4.22->crewai_tools==0.1.6) (3.11.2)\n",
            "Requirement already satisfied: marshmallow<4.0.0,>=3.18.0 in /usr/local/lib/python3.12/dist-packages (from dataclasses-json<0.7,>=0.5.7->langchain_community==0.0.29) (3.26.1)\n",
            "Requirement already satisfied: typing-inspect<1,>=0.4.0 in /usr/local/lib/python3.12/dist-packages (from dataclasses-json<0.7,>=0.5.7->langchain_community==0.0.29) (0.9.0)\n",
            "Requirement already satisfied: alembic<2.0.0,>=1.13.1 in /usr/local/lib/python3.12/dist-packages (from embedchain<0.2.0,>=0.1.98->crewai==0.28.8) (1.16.4)\n",
            "Requirement already satisfied: clarifai<11.0.0,>=10.0.1 in /usr/local/lib/python3.12/dist-packages (from embedchain<0.2.0,>=0.1.98->crewai==0.28.8) (10.11.1)\n",
            "Requirement already satisfied: google-cloud-aiplatform<2.0.0,>=1.26.1 in /usr/local/lib/python3.12/dist-packages (from embedchain<0.2.0,>=0.1.98->crewai==0.28.8) (1.109.0)\n",
            "Requirement already satisfied: gptcache<0.2.0,>=0.1.43 in /usr/local/lib/python3.12/dist-packages (from embedchain<0.2.0,>=0.1.98->crewai==0.28.8) (0.1.44)\n",
            "Requirement already satisfied: langchain-cohere<0.2.0,>=0.1.4 in /usr/local/lib/python3.12/dist-packages (from embedchain<0.2.0,>=0.1.98->crewai==0.28.8) (0.1.5)\n",
            "Requirement already satisfied: langchain-openai<0.2.0,>=0.1.7 in /usr/local/lib/python3.12/dist-packages (from embedchain<0.2.0,>=0.1.98->crewai==0.28.8) (0.1.7)\n",
            "Requirement already satisfied: pypdf<5.0.0,>=4.0.1 in /usr/local/lib/python3.12/dist-packages (from embedchain<0.2.0,>=0.1.98->crewai==0.28.8) (4.3.1)\n",
            "Requirement already satisfied: pysbd<0.4.0,>=0.3.4 in /usr/local/lib/python3.12/dist-packages (from embedchain<0.2.0,>=0.1.98->crewai==0.28.8) (0.3.4)\n",
            "Requirement already satisfied: rich<14.0.0,>=13.7.0 in /usr/local/lib/python3.12/dist-packages (from embedchain<0.2.0,>=0.1.98->crewai==0.28.8) (13.9.4)\n",
            "Requirement already satisfied: schema<0.8.0,>=0.7.5 in /usr/local/lib/python3.12/dist-packages (from embedchain<0.2.0,>=0.1.98->crewai==0.28.8) (0.7.5)\n",
            "Requirement already satisfied: tiktoken<0.8.0,>=0.7.0 in /usr/local/lib/python3.12/dist-packages (from embedchain<0.2.0,>=0.1.98->crewai==0.28.8) (0.7.0)\n",
            "Requirement already satisfied: PyGithub<2.0.0,>=1.59.1 in /usr/local/lib/python3.12/dist-packages (from embedchain[github,youtube]<0.2.0,>=0.1.85->crewai_tools==0.1.6) (1.59.1)\n",
            "Requirement already satisfied: gitpython<4.0.0,>=3.1.38 in /usr/local/lib/python3.12/dist-packages (from embedchain[github,youtube]<0.2.0,>=0.1.85->crewai_tools==0.1.6) (3.1.45)\n",
            "Requirement already satisfied: youtube-transcript-api<0.7.0,>=0.6.1 in /usr/local/lib/python3.12/dist-packages (from embedchain[github,youtube]<0.2.0,>=0.1.85->crewai_tools==0.1.6) (0.6.3)\n",
            "Requirement already satisfied: yt_dlp<2024.0.0,>=2023.11.14 in /usr/local/lib/python3.12/dist-packages (from embedchain[github,youtube]<0.2.0,>=0.1.85->crewai_tools==0.1.6) (2023.12.30)\n",
            "Requirement already satisfied: docstring-parser<0.16,>=0.15 in /usr/local/lib/python3.12/dist-packages (from instructor<0.6.0,>=0.5.2->crewai==0.28.8) (0.15)\n",
            "Requirement already satisfied: deprecation in /usr/local/lib/python3.12/dist-packages (from lancedb<0.6.0,>=0.5.4->crewai_tools==0.1.6) (2.1.0)\n",
            "Requirement already satisfied: pylance==0.9.18 in /usr/local/lib/python3.12/dist-packages (from lancedb<0.6.0,>=0.5.4->crewai_tools==0.1.6) (0.9.18)\n",
            "Requirement already satisfied: ratelimiter~=1.0 in /usr/local/lib/python3.12/dist-packages (from lancedb<0.6.0,>=0.5.4->crewai_tools==0.1.6) (1.2.0.post0)\n",
            "Requirement already satisfied: retry>=0.9.2 in /usr/local/lib/python3.12/dist-packages (from lancedb<0.6.0,>=0.5.4->crewai_tools==0.1.6) (0.9.2)\n",
            "Requirement already satisfied: semver>=3.0 in /usr/local/lib/python3.12/dist-packages (from lancedb<0.6.0,>=0.5.4->crewai_tools==0.1.6) (3.0.4)\n",
            "Requirement already satisfied: cachetools in /usr/local/lib/python3.12/dist-packages (from lancedb<0.6.0,>=0.5.4->crewai_tools==0.1.6) (5.5.2)\n",
            "Requirement already satisfied: pyarrow>=12 in /usr/local/lib/python3.12/dist-packages (from pylance==0.9.18->lancedb<0.6.0,>=0.5.4->crewai_tools==0.1.6) (18.1.0)\n",
            "Requirement already satisfied: jsonpatch<2.0,>=1.33 in /usr/local/lib/python3.12/dist-packages (from langchain<0.2.0,>=0.1.10->crewai==0.28.8) (1.33)\n",
            "Requirement already satisfied: langchain-text-splitters<0.1,>=0.0.1 in /usr/local/lib/python3.12/dist-packages (from langchain<0.2.0,>=0.1.10->crewai==0.28.8) (0.0.2)\n",
            "Requirement already satisfied: packaging<24.0,>=23.2 in /usr/local/lib/python3.12/dist-packages (from langchain-core<0.2.0,>=0.1.33->langchain_community==0.0.29) (23.2)\n",
            "Requirement already satisfied: httpx<1,>=0.23.0 in /usr/local/lib/python3.12/dist-packages (from langsmith<0.2.0,>=0.1.0->langchain_community==0.0.29) (0.28.1)\n",
            "Requirement already satisfied: requests-toolbelt<2.0.0,>=1.0.0 in /usr/local/lib/python3.12/dist-packages (from langsmith<0.2.0,>=0.1.0->langchain_community==0.0.29) (1.0.0)\n",
            "Requirement already satisfied: anyio<5,>=3.5.0 in /usr/local/lib/python3.12/dist-packages (from openai<2.0.0,>=1.13.3->crewai==0.28.8) (4.10.0)\n",
            "Requirement already satisfied: distro<2,>=1.7.0 in /usr/local/lib/python3.12/dist-packages (from openai<2.0.0,>=1.13.3->crewai==0.28.8) (1.9.0)\n",
            "Requirement already satisfied: jiter<1,>=0.4.0 in /usr/local/lib/python3.12/dist-packages (from openai<2.0.0,>=1.13.3->crewai==0.28.8) (0.10.0)\n",
            "Requirement already satisfied: sniffio in /usr/local/lib/python3.12/dist-packages (from openai<2.0.0,>=1.13.3->crewai==0.28.8) (1.3.1)\n",
            "Requirement already satisfied: importlib-metadata<8.8.0,>=6.0 in /usr/local/lib/python3.12/dist-packages (from opentelemetry-api<2.0.0,>=1.22.0->crewai==0.28.8) (8.7.0)\n",
            "Requirement already satisfied: googleapis-common-protos~=1.52 in /usr/local/lib/python3.12/dist-packages (from opentelemetry-exporter-otlp-proto-http<2.0.0,>=1.22.0->crewai==0.28.8) (1.70.0)\n",
            "Requirement already satisfied: opentelemetry-exporter-otlp-proto-common==1.36.0 in /usr/local/lib/python3.12/dist-packages (from opentelemetry-exporter-otlp-proto-http<2.0.0,>=1.22.0->crewai==0.28.8) (1.36.0)\n",
            "Requirement already satisfied: opentelemetry-proto==1.36.0 in /usr/local/lib/python3.12/dist-packages (from opentelemetry-exporter-otlp-proto-http<2.0.0,>=1.22.0->crewai==0.28.8) (1.36.0)\n",
            "Requirement already satisfied: protobuf<7.0,>=5.0 in /usr/local/lib/python3.12/dist-packages (from opentelemetry-proto==1.36.0->opentelemetry-exporter-otlp-proto-http<2.0.0,>=1.22.0->crewai==0.28.8) (5.29.5)\n",
            "Requirement already satisfied: opentelemetry-semantic-conventions==0.57b0 in /usr/local/lib/python3.12/dist-packages (from opentelemetry-sdk<2.0.0,>=1.22.0->crewai==0.28.8) (0.57b0)\n",
            "Requirement already satisfied: annotated-types>=0.6.0 in /usr/local/lib/python3.12/dist-packages (from pydantic<3.0.0,>=2.4.2->crewai==0.28.8) (0.7.0)\n",
            "Requirement already satisfied: pydantic-core==2.33.2 in /usr/local/lib/python3.12/dist-packages (from pydantic<3.0.0,>=2.4.2->crewai==0.28.8) (2.33.2)\n",
            "Requirement already satisfied: typing-inspection>=0.4.0 in /usr/local/lib/python3.12/dist-packages (from pydantic<3.0.0,>=2.4.2->crewai==0.28.8) (0.4.1)\n",
            "Requirement already satisfied: nodeenv>=1.6.0 in /usr/local/lib/python3.12/dist-packages (from pyright<2.0.0,>=1.1.350->crewai_tools==0.1.6) (1.9.1)\n",
            "Requirement already satisfied: iniconfig>=1 in /usr/local/lib/python3.12/dist-packages (from pytest<9.0.0,>=8.0.0->crewai_tools==0.1.6) (2.1.0)\n",
            "Requirement already satisfied: pluggy<2,>=1.5 in /usr/local/lib/python3.12/dist-packages (from pytest<9.0.0,>=8.0.0->crewai_tools==0.1.6) (1.6.0)\n",
            "Requirement already satisfied: pygments>=2.7.2 in /usr/local/lib/python3.12/dist-packages (from pytest<9.0.0,>=8.0.0->crewai_tools==0.1.6) (2.19.2)\n",
            "Requirement already satisfied: charset_normalizer<4,>=2 in /usr/local/lib/python3.12/dist-packages (from requests<3.0.0,>=2.31.0->crewai_tools==0.1.6) (3.4.3)\n",
            "Requirement already satisfied: idna<4,>=2.5 in /usr/local/lib/python3.12/dist-packages (from requests<3.0.0,>=2.31.0->crewai_tools==0.1.6) (3.10)\n",
            "Requirement already satisfied: urllib3<3,>=1.21.1 in /usr/local/lib/python3.12/dist-packages (from requests<3.0.0,>=2.31.0->crewai_tools==0.1.6) (2.5.0)\n",
            "Requirement already satisfied: certifi>=2017.4.17 in /usr/local/lib/python3.12/dist-packages (from requests<3.0.0,>=2.31.0->crewai_tools==0.1.6) (2025.8.3)\n",
            "Requirement already satisfied: trio~=0.30.0 in /usr/local/lib/python3.12/dist-packages (from selenium<5.0.0,>=4.18.1->crewai_tools==0.1.6) (0.30.0)\n",
            "Requirement already satisfied: trio-websocket~=0.12.2 in /usr/local/lib/python3.12/dist-packages (from selenium<5.0.0,>=4.18.1->crewai_tools==0.1.6) (0.12.2)\n",
            "Requirement already satisfied: websocket-client~=1.8.0 in /usr/local/lib/python3.12/dist-packages (from selenium<5.0.0,>=4.18.1->crewai_tools==0.1.6) (1.8.0)\n",
            "Requirement already satisfied: greenlet>=1 in /usr/local/lib/python3.12/dist-packages (from SQLAlchemy<3,>=1.4->langchain_community==0.0.29) (3.2.4)\n",
            "Requirement already satisfied: Mako in /usr/lib/python3/dist-packages (from alembic<2.0.0,>=1.13.1->embedchain<0.2.0,>=0.1.98->crewai==0.28.8) (1.1.3)\n",
            "Requirement already satisfied: pyproject_hooks in /usr/local/lib/python3.12/dist-packages (from build>=1.0.3->chromadb<0.5.0,>=0.4.22->crewai_tools==0.1.6) (1.2.0)\n",
            "Requirement already satisfied: clarifai-grpc>=10.11.2 in /usr/local/lib/python3.12/dist-packages (from clarifai<11.0.0,>=10.0.1->embedchain<0.2.0,>=0.1.98->crewai==0.28.8) (11.7.6)\n",
            "Requirement already satisfied: clarifai-protocol>=0.0.14 in /usr/local/lib/python3.12/dist-packages (from clarifai<11.0.0,>=10.0.1->embedchain<0.2.0,>=0.1.98->crewai==0.28.8) (0.0.14)\n",
            "Requirement already satisfied: tritonclient>=2.34.0 in /usr/local/lib/python3.12/dist-packages (from clarifai<11.0.0,>=10.0.1->embedchain<0.2.0,>=0.1.98->crewai==0.28.8) (2.59.0)\n",
            "Requirement already satisfied: Pillow>=9.5.0 in /usr/local/lib/python3.12/dist-packages (from clarifai<11.0.0,>=10.0.1->embedchain<0.2.0,>=0.1.98->crewai==0.28.8) (11.3.0)\n",
            "Requirement already satisfied: inquirerpy==0.3.4 in /usr/local/lib/python3.12/dist-packages (from clarifai<11.0.0,>=10.0.1->embedchain<0.2.0,>=0.1.98->crewai==0.28.8) (0.3.4)\n",
            "Requirement already satisfied: tabulate>=0.9.0 in /usr/local/lib/python3.12/dist-packages (from clarifai<11.0.0,>=10.0.1->embedchain<0.2.0,>=0.1.98->crewai==0.28.8) (0.9.0)\n",
            "Requirement already satisfied: fsspec==2024.6.1 in /usr/local/lib/python3.12/dist-packages (from clarifai<11.0.0,>=10.0.1->embedchain<0.2.0,>=0.1.98->crewai==0.28.8) (2024.6.1)\n",
            "Requirement already satisfied: contextlib2>=0.5.5 in /usr/local/lib/python3.12/dist-packages (from schema<0.8.0,>=0.7.5->embedchain<0.2.0,>=0.1.98->crewai==0.28.8) (21.6.0)\n",
            "Requirement already satisfied: pfzy<0.4.0,>=0.3.1 in /usr/local/lib/python3.12/dist-packages (from inquirerpy==0.3.4->clarifai<11.0.0,>=10.0.1->embedchain<0.2.0,>=0.1.98->crewai==0.28.8) (0.3.4)\n",
            "Requirement already satisfied: prompt-toolkit<4.0.0,>=3.0.1 in /usr/local/lib/python3.12/dist-packages (from inquirerpy==0.3.4->clarifai<11.0.0,>=10.0.1->embedchain<0.2.0,>=0.1.98->crewai==0.28.8) (3.0.51)\n",
            "Requirement already satisfied: starlette<0.48.0,>=0.40.0 in /usr/local/lib/python3.12/dist-packages (from fastapi>=0.95.2->chromadb<0.5.0,>=0.4.22->crewai_tools==0.1.6) (0.47.2)\n",
            "Requirement already satisfied: gitdb<5,>=4.0.1 in /usr/local/lib/python3.12/dist-packages (from gitpython<4.0.0,>=3.1.38->embedchain[github,youtube]<0.2.0,>=0.1.85->crewai_tools==0.1.6) (4.0.12)\n",
            "Requirement already satisfied: google-api-core!=2.0.*,!=2.1.*,!=2.2.*,!=2.3.*,!=2.4.*,!=2.5.*,!=2.6.*,!=2.7.*,<3.0.0,>=1.34.1 in /usr/local/lib/python3.12/dist-packages (from google-api-core[grpc]!=2.0.*,!=2.1.*,!=2.2.*,!=2.3.*,!=2.4.*,!=2.5.*,!=2.6.*,!=2.7.*,<3.0.0,>=1.34.1->google-cloud-aiplatform<2.0.0,>=1.26.1->embedchain<0.2.0,>=0.1.98->crewai==0.28.8) (2.25.1)\n",
            "Requirement already satisfied: google-auth<3.0.0,>=2.14.1 in /usr/local/lib/python3.12/dist-packages (from google-cloud-aiplatform<2.0.0,>=1.26.1->embedchain<0.2.0,>=0.1.98->crewai==0.28.8) (2.38.0)\n",
            "Requirement already satisfied: proto-plus<2.0.0,>=1.22.3 in /usr/local/lib/python3.12/dist-packages (from google-cloud-aiplatform<2.0.0,>=1.26.1->embedchain<0.2.0,>=0.1.98->crewai==0.28.8) (1.26.1)\n",
            "Requirement already satisfied: google-cloud-storage<3.0.0,>=1.32.0 in /usr/local/lib/python3.12/dist-packages (from google-cloud-aiplatform<2.0.0,>=1.26.1->embedchain<0.2.0,>=0.1.98->crewai==0.28.8) (2.19.0)\n",
            "Requirement already satisfied: google-cloud-bigquery!=3.20.0,<4.0.0,>=1.15.0 in /usr/local/lib/python3.12/dist-packages (from google-cloud-aiplatform<2.0.0,>=1.26.1->embedchain<0.2.0,>=0.1.98->crewai==0.28.8) (3.30.0)\n",
            "Requirement already satisfied: google-cloud-resource-manager<3.0.0,>=1.3.3 in /usr/local/lib/python3.12/dist-packages (from google-cloud-aiplatform<2.0.0,>=1.26.1->embedchain<0.2.0,>=0.1.98->crewai==0.28.8) (1.14.2)\n",
            "Requirement already satisfied: shapely<3.0.0 in /usr/local/lib/python3.12/dist-packages (from google-cloud-aiplatform<2.0.0,>=1.26.1->embedchain<0.2.0,>=0.1.98->crewai==0.28.8) (2.1.1)\n",
            "Requirement already satisfied: google-genai<2.0.0,>=1.0.0 in /usr/local/lib/python3.12/dist-packages (from google-cloud-aiplatform<2.0.0,>=1.26.1->embedchain<0.2.0,>=0.1.98->crewai==0.28.8) (1.30.0)\n",
            "Requirement already satisfied: httpcore==1.* in /usr/local/lib/python3.12/dist-packages (from httpx<1,>=0.23.0->langsmith<0.2.0,>=0.1.0->langchain_community==0.0.29) (1.0.9)\n",
            "Requirement already satisfied: h11>=0.16 in /usr/local/lib/python3.12/dist-packages (from httpcore==1.*->httpx<1,>=0.23.0->langsmith<0.2.0,>=0.1.0->langchain_community==0.0.29) (0.16.0)\n",
            "Requirement already satisfied: zipp>=3.20 in /usr/local/lib/python3.12/dist-packages (from importlib-metadata<8.8.0,>=6.0->opentelemetry-api<2.0.0,>=1.22.0->crewai==0.28.8) (3.23.0)\n",
            "Requirement already satisfied: jsonpointer>=1.9 in /usr/local/lib/python3.12/dist-packages (from jsonpatch<2.0,>=1.33->langchain<0.2.0,>=0.1.10->crewai==0.28.8) (3.0.0)\n",
            "Requirement already satisfied: six>=1.9.0 in /usr/local/lib/python3.12/dist-packages (from kubernetes>=28.1.0->chromadb<0.5.0,>=0.4.22->crewai_tools==0.1.6) (1.17.0)\n",
            "Requirement already satisfied: python-dateutil>=2.5.3 in /usr/local/lib/python3.12/dist-packages (from kubernetes>=28.1.0->chromadb<0.5.0,>=0.4.22->crewai_tools==0.1.6) (2.9.0.post0)\n",
            "Requirement already satisfied: requests-oauthlib in /usr/local/lib/python3.12/dist-packages (from kubernetes>=28.1.0->chromadb<0.5.0,>=0.4.22->crewai_tools==0.1.6) (2.0.0)\n",
            "Requirement already satisfied: oauthlib>=3.2.2 in /usr/local/lib/python3.12/dist-packages (from kubernetes>=28.1.0->chromadb<0.5.0,>=0.4.22->crewai_tools==0.1.6) (3.3.1)\n",
            "Requirement already satisfied: durationpy>=0.7 in /usr/local/lib/python3.12/dist-packages (from kubernetes>=28.1.0->chromadb<0.5.0,>=0.4.22->crewai_tools==0.1.6) (0.10)\n",
            "Requirement already satisfied: cohere<6.0,>=5.5 in /usr/local/lib/python3.12/dist-packages (from langchain-cohere<0.2.0,>=0.1.4->embedchain<0.2.0,>=0.1.98->crewai==0.28.8) (5.17.0)\n",
            "Requirement already satisfied: coloredlogs in /usr/local/lib/python3.12/dist-packages (from onnxruntime>=1.14.1->chromadb<0.5.0,>=0.4.22->crewai_tools==0.1.6) (15.0.1)\n",
            "Requirement already satisfied: flatbuffers in /usr/local/lib/python3.12/dist-packages (from onnxruntime>=1.14.1->chromadb<0.5.0,>=0.4.22->crewai_tools==0.1.6) (25.2.10)\n",
            "Requirement already satisfied: sympy in /usr/local/lib/python3.12/dist-packages (from onnxruntime>=1.14.1->chromadb<0.5.0,>=0.4.22->crewai_tools==0.1.6) (1.13.3)\n",
            "Requirement already satisfied: opentelemetry-instrumentation-asgi==0.57b0 in /usr/local/lib/python3.12/dist-packages (from opentelemetry-instrumentation-fastapi>=0.41b0->chromadb<0.5.0,>=0.4.22->crewai_tools==0.1.6) (0.57b0)\n",
            "Requirement already satisfied: opentelemetry-instrumentation==0.57b0 in /usr/local/lib/python3.12/dist-packages (from opentelemetry-instrumentation-fastapi>=0.41b0->chromadb<0.5.0,>=0.4.22->crewai_tools==0.1.6) (0.57b0)\n",
            "Requirement already satisfied: opentelemetry-util-http==0.57b0 in /usr/local/lib/python3.12/dist-packages (from opentelemetry-instrumentation-fastapi>=0.41b0->chromadb<0.5.0,>=0.4.22->crewai_tools==0.1.6) (0.57b0)\n",
            "Requirement already satisfied: wrapt<2.0.0,>=1.0.0 in /usr/local/lib/python3.12/dist-packages (from opentelemetry-instrumentation==0.57b0->opentelemetry-instrumentation-fastapi>=0.41b0->chromadb<0.5.0,>=0.4.22->crewai_tools==0.1.6) (1.17.3)\n",
            "Requirement already satisfied: asgiref~=3.0 in /usr/local/lib/python3.12/dist-packages (from opentelemetry-instrumentation-asgi==0.57b0->opentelemetry-instrumentation-fastapi>=0.41b0->chromadb<0.5.0,>=0.4.22->crewai_tools==0.1.6) (3.9.1)\n",
            "Requirement already satisfied: monotonic>=1.5 in /usr/local/lib/python3.12/dist-packages (from posthog>=2.4.0->chromadb<0.5.0,>=0.4.22->crewai_tools==0.1.6) (1.6)\n",
            "Requirement already satisfied: backoff>=1.10.0 in /usr/local/lib/python3.12/dist-packages (from posthog>=2.4.0->chromadb<0.5.0,>=0.4.22->crewai_tools==0.1.6) (2.2.1)\n",
            "Requirement already satisfied: deprecated in /usr/local/lib/python3.12/dist-packages (from PyGithub<2.0.0,>=1.59.1->embedchain[github,youtube]<0.2.0,>=0.1.85->crewai_tools==0.1.6) (1.2.18)\n",
            "Requirement already satisfied: pyjwt>=2.4.0 in /usr/local/lib/python3.12/dist-packages (from pyjwt[crypto]>=2.4.0->PyGithub<2.0.0,>=1.59.1->embedchain[github,youtube]<0.2.0,>=0.1.85->crewai_tools==0.1.6) (2.10.1)\n",
            "Requirement already satisfied: pynacl>=1.4.0 in /usr/local/lib/python3.12/dist-packages (from PyGithub<2.0.0,>=1.59.1->embedchain[github,youtube]<0.2.0,>=0.1.85->crewai_tools==0.1.6) (1.5.0)\n",
            "Requirement already satisfied: decorator>=3.4.2 in /usr/local/lib/python3.12/dist-packages (from retry>=0.9.2->lancedb<0.6.0,>=0.5.4->crewai_tools==0.1.6) (4.4.2)\n",
            "Requirement already satisfied: py<2.0.0,>=1.4.26 in /usr/local/lib/python3.12/dist-packages (from retry>=0.9.2->lancedb<0.6.0,>=0.5.4->crewai_tools==0.1.6) (1.11.0)\n",
            "Requirement already satisfied: markdown-it-py>=2.2.0 in /usr/local/lib/python3.12/dist-packages (from rich<14.0.0,>=13.7.0->embedchain<0.2.0,>=0.1.98->crewai==0.28.8) (4.0.0)\n",
            "Requirement already satisfied: huggingface-hub<1.0,>=0.16.4 in /usr/local/lib/python3.12/dist-packages (from tokenizers>=0.13.2->chromadb<0.5.0,>=0.4.22->crewai_tools==0.1.6) (0.34.4)\n",
            "Requirement already satisfied: sortedcontainers in /usr/local/lib/python3.12/dist-packages (from trio~=0.30.0->selenium<5.0.0,>=4.18.1->crewai_tools==0.1.6) (2.4.0)\n",
            "Requirement already satisfied: outcome in /usr/local/lib/python3.12/dist-packages (from trio~=0.30.0->selenium<5.0.0,>=4.18.1->crewai_tools==0.1.6) (1.3.0.post0)\n",
            "Requirement already satisfied: wsproto>=0.14 in /usr/local/lib/python3.12/dist-packages (from trio-websocket~=0.12.2->selenium<5.0.0,>=4.18.1->crewai_tools==0.1.6) (1.2.0)\n",
            "Requirement already satisfied: mypy-extensions>=0.3.0 in /usr/local/lib/python3.12/dist-packages (from typing-inspect<1,>=0.4.0->dataclasses-json<0.7,>=0.5.7->langchain_community==0.0.29) (1.1.0)\n",
            "Requirement already satisfied: pysocks!=1.5.7,<2.0,>=1.5.6 in /usr/local/lib/python3.12/dist-packages (from urllib3[socks]<3.0,>=2.5.0->selenium<5.0.0,>=4.18.1->crewai_tools==0.1.6) (1.7.1)\n",
            "Requirement already satisfied: httptools>=0.6.3 in /usr/local/lib/python3.12/dist-packages (from uvicorn[standard]>=0.18.3->chromadb<0.5.0,>=0.4.22->crewai_tools==0.1.6) (0.6.4)\n",
            "Requirement already satisfied: uvloop>=0.15.1 in /usr/local/lib/python3.12/dist-packages (from uvicorn[standard]>=0.18.3->chromadb<0.5.0,>=0.4.22->crewai_tools==0.1.6) (0.21.0)\n",
            "Requirement already satisfied: watchfiles>=0.13 in /usr/local/lib/python3.12/dist-packages (from uvicorn[standard]>=0.18.3->chromadb<0.5.0,>=0.4.22->crewai_tools==0.1.6) (1.1.0)\n",
            "Requirement already satisfied: websockets>=10.4 in /usr/local/lib/python3.12/dist-packages (from uvicorn[standard]>=0.18.3->chromadb<0.5.0,>=0.4.22->crewai_tools==0.1.6) (15.0.1)\n",
            "Requirement already satisfied: defusedxml<0.8.0,>=0.7.1 in /usr/local/lib/python3.12/dist-packages (from youtube-transcript-api<0.7.0,>=0.6.1->embedchain[github,youtube]<0.2.0,>=0.1.85->crewai_tools==0.1.6) (0.7.1)\n",
            "Requirement already satisfied: mutagen in /usr/local/lib/python3.12/dist-packages (from yt_dlp<2024.0.0,>=2023.11.14->embedchain[github,youtube]<0.2.0,>=0.1.85->crewai_tools==0.1.6) (1.47.0)\n",
            "Requirement already satisfied: pycryptodomex in /usr/local/lib/python3.12/dist-packages (from yt_dlp<2024.0.0,>=2023.11.14->embedchain[github,youtube]<0.2.0,>=0.1.85->crewai_tools==0.1.6) (3.23.0)\n",
            "Requirement already satisfied: brotli in /usr/local/lib/python3.12/dist-packages (from yt_dlp<2024.0.0,>=2023.11.14->embedchain[github,youtube]<0.2.0,>=0.1.85->crewai_tools==0.1.6) (1.1.0)\n",
            "Requirement already satisfied: fastavro<2.0.0,>=1.9.4 in /usr/local/lib/python3.12/dist-packages (from cohere<6.0,>=5.5->langchain-cohere<0.2.0,>=0.1.4->embedchain<0.2.0,>=0.1.98->crewai==0.28.8) (1.12.0)\n",
            "Requirement already satisfied: httpx-sse==0.4.0 in /usr/local/lib/python3.12/dist-packages (from cohere<6.0,>=5.5->langchain-cohere<0.2.0,>=0.1.4->embedchain<0.2.0,>=0.1.98->crewai==0.28.8) (0.4.0)\n",
            "Requirement already satisfied: types-requests<3.0.0,>=2.0.0 in /usr/local/lib/python3.12/dist-packages (from cohere<6.0,>=5.5->langchain-cohere<0.2.0,>=0.1.4->embedchain<0.2.0,>=0.1.98->crewai==0.28.8) (2.32.4.20250809)\n",
            "Requirement already satisfied: smmap<6,>=3.0.1 in /usr/local/lib/python3.12/dist-packages (from gitdb<5,>=4.0.1->gitpython<4.0.0,>=3.1.38->embedchain[github,youtube]<0.2.0,>=0.1.85->crewai_tools==0.1.6) (5.0.2)\n",
            "Requirement already satisfied: grpcio-status<2.0.0,>=1.33.2 in /usr/local/lib/python3.12/dist-packages (from google-api-core[grpc]!=2.0.*,!=2.1.*,!=2.2.*,!=2.3.*,!=2.4.*,!=2.5.*,!=2.6.*,!=2.7.*,<3.0.0,>=1.34.1->google-cloud-aiplatform<2.0.0,>=1.26.1->embedchain<0.2.0,>=0.1.98->crewai==0.28.8) (1.71.2)\n",
            "Requirement already satisfied: pyasn1-modules>=0.2.1 in /usr/local/lib/python3.12/dist-packages (from google-auth<3.0.0,>=2.14.1->google-cloud-aiplatform<2.0.0,>=1.26.1->embedchain<0.2.0,>=0.1.98->crewai==0.28.8) (0.4.2)\n",
            "Requirement already satisfied: rsa<5,>=3.1.4 in /usr/local/lib/python3.12/dist-packages (from google-auth<3.0.0,>=2.14.1->google-cloud-aiplatform<2.0.0,>=1.26.1->embedchain<0.2.0,>=0.1.98->crewai==0.28.8) (4.9.1)\n",
            "Requirement already satisfied: google-cloud-core<3.0.0dev,>=2.4.1 in /usr/local/lib/python3.12/dist-packages (from google-cloud-bigquery!=3.20.0,<4.0.0,>=1.15.0->google-cloud-aiplatform<2.0.0,>=1.26.1->embedchain<0.2.0,>=0.1.98->crewai==0.28.8) (2.4.3)\n",
            "Requirement already satisfied: google-resumable-media<3.0dev,>=2.0.0 in /usr/local/lib/python3.12/dist-packages (from google-cloud-bigquery!=3.20.0,<4.0.0,>=1.15.0->google-cloud-aiplatform<2.0.0,>=1.26.1->embedchain<0.2.0,>=0.1.98->crewai==0.28.8) (2.7.2)\n",
            "Requirement already satisfied: grpc-google-iam-v1<1.0.0,>=0.14.0 in /usr/local/lib/python3.12/dist-packages (from google-cloud-resource-manager<3.0.0,>=1.3.3->google-cloud-aiplatform<2.0.0,>=1.26.1->embedchain<0.2.0,>=0.1.98->crewai==0.28.8) (0.14.2)\n",
            "Requirement already satisfied: google-crc32c<2.0dev,>=1.0 in /usr/local/lib/python3.12/dist-packages (from google-cloud-storage<3.0.0,>=1.32.0->google-cloud-aiplatform<2.0.0,>=1.26.1->embedchain<0.2.0,>=0.1.98->crewai==0.28.8) (1.7.1)\n",
            "Requirement already satisfied: filelock in /usr/local/lib/python3.12/dist-packages (from huggingface-hub<1.0,>=0.16.4->tokenizers>=0.13.2->chromadb<0.5.0,>=0.4.22->crewai_tools==0.1.6) (3.19.1)\n",
            "Requirement already satisfied: hf-xet<2.0.0,>=1.1.3 in /usr/local/lib/python3.12/dist-packages (from huggingface-hub<1.0,>=0.16.4->tokenizers>=0.13.2->chromadb<0.5.0,>=0.4.22->crewai_tools==0.1.6) (1.1.7)\n",
            "Requirement already satisfied: mdurl~=0.1 in /usr/local/lib/python3.12/dist-packages (from markdown-it-py>=2.2.0->rich<14.0.0,>=13.7.0->embedchain<0.2.0,>=0.1.98->crewai==0.28.8) (0.1.2)\n",
            "Requirement already satisfied: cryptography>=3.4.0 in /usr/local/lib/python3.12/dist-packages (from pyjwt[crypto]>=2.4.0->PyGithub<2.0.0,>=1.59.1->embedchain[github,youtube]<0.2.0,>=0.1.85->crewai_tools==0.1.6) (43.0.3)\n",
            "Requirement already satisfied: cffi>=1.4.1 in /usr/local/lib/python3.12/dist-packages (from pynacl>=1.4.0->PyGithub<2.0.0,>=1.59.1->embedchain[github,youtube]<0.2.0,>=0.1.85->crewai_tools==0.1.6) (1.17.1)\n",
            "Requirement already satisfied: python-rapidjson>=0.9.1 in /usr/local/lib/python3.12/dist-packages (from tritonclient>=2.34.0->clarifai<11.0.0,>=10.0.1->embedchain<0.2.0,>=0.1.98->crewai==0.28.8) (1.21)\n",
            "Requirement already satisfied: humanfriendly>=9.1 in /usr/local/lib/python3.12/dist-packages (from coloredlogs->onnxruntime>=1.14.1->chromadb<0.5.0,>=0.4.22->crewai_tools==0.1.6) (10.0)\n",
            "Requirement already satisfied: mpmath<1.4,>=1.1.0 in /usr/local/lib/python3.12/dist-packages (from sympy->onnxruntime>=1.14.1->chromadb<0.5.0,>=0.4.22->crewai_tools==0.1.6) (1.3.0)\n",
            "Requirement already satisfied: pycparser in /usr/local/lib/python3.12/dist-packages (from cffi>=1.4.1->pynacl>=1.4.0->PyGithub<2.0.0,>=1.59.1->embedchain[github,youtube]<0.2.0,>=0.1.85->crewai_tools==0.1.6) (2.22)\n",
            "Requirement already satisfied: wcwidth in /usr/local/lib/python3.12/dist-packages (from prompt-toolkit<4.0.0,>=3.0.1->inquirerpy==0.3.4->clarifai<11.0.0,>=10.0.1->embedchain<0.2.0,>=0.1.98->crewai==0.28.8) (0.2.13)\n",
            "Requirement already satisfied: pyasn1<0.7.0,>=0.6.1 in /usr/local/lib/python3.12/dist-packages (from pyasn1-modules>=0.2.1->google-auth<3.0.0,>=2.14.1->google-cloud-aiplatform<2.0.0,>=1.26.1->embedchain<0.2.0,>=0.1.98->crewai==0.28.8) (0.6.1)\n"
          ]
        }
      ]
    },
    {
      "cell_type": "code",
      "execution_count": 29,
      "metadata": {
        "height": 64,
        "id": "qOKRqSIszT36"
      },
      "outputs": [],
      "source": [
        "import warnings\n",
        "warnings.filterwarnings('ignore')"
      ]
    },
    {
      "cell_type": "code",
      "execution_count": 30,
      "metadata": {
        "height": 30,
        "id": "g6sTT6blzT37"
      },
      "outputs": [],
      "source": [
        "from crewai import Agent, Task, Crew"
      ]
    },
    {
      "cell_type": "code",
      "execution_count": 31,
      "metadata": {
        "height": 98,
        "id": "6LJE8JT-zT38"
      },
      "outputs": [],
      "source": [
        "import os\n",
        "from google.colab import userdata\n",
        "openaikey = userdata.get('OpenAPIKey')\n",
        "os.environ['OPENAI_API_KEY'] = openaikey\n",
        "os.environ[\"OPENAI_MODEL_NAME\"] = 'gpt-3.5-turbo'"
      ]
    },
    {
      "cell_type": "markdown",
      "metadata": {
        "id": "0ZBDt4xZzT38"
      },
      "source": [
        "# Agent: Researcher"
      ]
    },
    {
      "cell_type": "code",
      "source": [
        "researcher_agent = Agent(\n",
        "    role=\"Researcher\",\n",
        "    goal=(\n",
        "        \"Collect accurate, relevant, and diverse information on the assigned topic: {research_topic}. \"\n",
        "        \"Organize findings in a structured, easy-to-digest format.\"\n",
        "    ),\n",
        "    backstory=(\n",
        "        \"You are an expert Researcher. Your task is to gather accurate and reliable information about \"\n",
        "        \"the topic: {research_topic}. \\n\\n\"\n",
        "\n",
        "        \"You should look for trusted sources, highlight key facts, and organize the data clearly. \"\n",
        "        \"Your findings will be passed to the Analyst agent, who will use your structure to write the \"\n",
        "        \"complete Research Topic. Avoid adding personal opinions or assumptions.\"\n",
        "    ),\n",
        "    allow_delegation=False,\n",
        "    verbose=True\n",
        ")"
      ],
      "metadata": {
        "id": "FJPh0sWarxqi"
      },
      "execution_count": 32,
      "outputs": []
    },
    {
      "cell_type": "markdown",
      "metadata": {
        "id": "t9rYLiemzT3-"
      },
      "source": [
        "### Agent: Analyst"
      ]
    },
    {
      "cell_type": "code",
      "source": [
        "analyst_agent = Agent(\n",
        "    role=\"Analyst\",\n",
        "    goal=(\n",
        "        \"Analyze the information provided on the topic: {research_topic}. \"\n",
        "        \"Identify patterns, insights, and connections, and present them in a structured format.\"\n",
        "    ),\n",
        "    backstory=(\n",
        "        \"You are an expert Analyst. \"\n",
        "        \"Your job is to carefully study the research data provided by the Researcher agent \"\n",
        "        \"on the topic: {research_topic}. \\n\\n\"\n",
        "\n",
        "        \"This outline will be passed to the Reviewer agent, who will use your structure to write the \"\n",
        "        \"complete Research. Make sure you look for patterns, insights, and connections in the information.\"\n",
        "    ),\n",
        "    allow_delegation=False,\n",
        "    verbose=True\n",
        ")"
      ],
      "metadata": {
        "id": "1AnKNnlAslkz"
      },
      "execution_count": 34,
      "outputs": []
    },
    {
      "cell_type": "markdown",
      "metadata": {
        "id": "K_2etRAUzT3_"
      },
      "source": [
        "### Agent: Reviewer"
      ]
    },
    {
      "cell_type": "code",
      "source": [
        "reviewer_agent = Agent(\n",
        "    role=\"Reviewer\",\n",
        "    goal=(\n",
        "        \"Evaluate the clarity, accuracy, and consistency of content on {research_topic}. \"\n",
        "        \"Check for factual correctness, logical flow, and alignment with goals.\"\n",
        "    ),\n",
        "    backstory=(\n",
        "        \"You are an expert Reviewer. Your job is to check the analysis provided by the Analyst agent \"\n",
        "        \"on the topic: {research_topic}. \\n\\n\"\n",
        "\n",
        "        \"You should confirm accuracy, clarity, and logical flow. \"\n",
        "        \"Identify gaps, errors, or bias and suggest improvements.\"\n",
        "    ),\n",
        "    allow_delegation=False,\n",
        "    verbose=True\n",
        ")"
      ],
      "metadata": {
        "id": "Uc59NInFtxfE"
      },
      "execution_count": 35,
      "outputs": []
    },
    {
      "cell_type": "markdown",
      "source": [
        "### Agent: Writer\n"
      ],
      "metadata": {
        "id": "XIKTqWhChyou"
      }
    },
    {
      "cell_type": "code",
      "source": [
        "writer_agent = Agent(\n",
        "    role=\"Writer\",\n",
        "    goal=(\n",
        "        \"Transform insights and analysis into well-structured content on {research_topic}. \"\n",
        "        \"Maintain readability, tone, and engagement appropriate to the audience. \"\n",
        "        \"Use clear formatting, examples, and explanations to convey ideas.\"\n",
        "    ),\n",
        "    backstory=(\n",
        "        \"You are an expert Writer. Your job is to create clear, engaging, and well-structured content based on the reviewed analysis of \"\n",
        "        \"the topic: {research_topic}. \\n\\n\"\n",
        "\n",
        "        \"You should write in simple language, avoid jargon, and make the content easy to follow. \"\n",
        "        \"Add examples, formatting, and explanations where needed. \"\n",
        "        \"Your final draft should be polished and ready for delivery.\"\n",
        "    ),\n",
        "    allow_delegation=False,\n",
        "    verbose=True\n",
        ")\n"
      ],
      "metadata": {
        "id": "_1vkPn6Ahivb"
      },
      "execution_count": 36,
      "outputs": []
    },
    {
      "cell_type": "markdown",
      "metadata": {
        "id": "_2RnUokezT4A"
      },
      "source": [
        "# Task: Researcher"
      ]
    },
    {
      "cell_type": "code",
      "source": [
        "researcher_task = Task(\n",
        "    description=(\n",
        "        \"Researcher: Collect accurate, relevant, and diverse information about the topic: {research_topic}.\\n\\n\"\n",
        "        \"Focus on trusted sources, highlight key facts, and organize findings in a clear and structured manner.\"\n",
        "    ),\n",
        "    expected_output=(\n",
        "        \"Structured research notes:\\n\"\n",
        "        \"- Key facts\\n\"\n",
        "        \"- Relevant data\\n\"\n",
        "        \"- Organized references\"\n",
        "    ),\n",
        "    agent=researcher_agent,\n",
        ")"
      ],
      "metadata": {
        "id": "r3dutI4q2bKU"
      },
      "execution_count": 37,
      "outputs": []
    },
    {
      "cell_type": "markdown",
      "source": [
        "TAask : Analyst"
      ],
      "metadata": {
        "id": "AWlv_FztiLnP"
      }
    },
    {
      "cell_type": "code",
      "source": [
        "analyst_task = Task(\n",
        "    description=(\n",
        "        \"Analyst: Analyze the information gathered by the Researcher on the topic: {research_topic}.\\n\\n\"\n",
        "        \"Identify patterns, insights, and meaningful connections to make the data actionable and insightful.\"\n",
        "    ),\n",
        "    expected_output=(\n",
        "        \"Analytical summary:\\n\"\n",
        "        \"- Key insights\\n\"\n",
        "        \"- Patterns or trends\\n\"\n",
        "        \"- Logical connections\"\n",
        "    ),\n",
        "    agent=analyst_agent,\n",
        ")"
      ],
      "metadata": {
        "id": "9qYdfNLviQn_"
      },
      "execution_count": 38,
      "outputs": []
    },
    {
      "cell_type": "markdown",
      "metadata": {
        "id": "11llZ6Z_zT4B"
      },
      "source": [
        "# Task: Reviewer"
      ]
    },
    {
      "cell_type": "code",
      "source": [
        "reviewer_task = Task(\n",
        "    description=(\n",
        "        \"Reviewer: Evaluate the analysis provided by the Analyst on the topic: {research_topic}.\\n\\n\"\n",
        "        \"Check for accuracy, clarity, logical flow, and ensure there are no gaps, errors, or bias.\"\n",
        "    ),\n",
        "    expected_output=(\n",
        "        \"Review report:\\n\"\n",
        "        \"- Confirmed accuracy\\n\"\n",
        "        \"- Identified issues or gaps\\n\"\n",
        "        \"- Suggestions for improvement\"\n",
        "    ),\n",
        "    agent=reviewer_agent,\n",
        ")"
      ],
      "metadata": {
        "id": "ZIdm8m8F3hBL"
      },
      "execution_count": 39,
      "outputs": []
    },
    {
      "cell_type": "markdown",
      "metadata": {
        "id": "3pHf_kplzT4C"
      },
      "source": [
        "# Task: Writer"
      ]
    },
    {
      "cell_type": "code",
      "execution_count": 40,
      "metadata": {
        "height": 166,
        "id": "8BmyBOX2zT4C"
      },
      "outputs": [],
      "source": [
        "writer_task = Task(\n",
        "    description=(\n",
        "        \"Writer: Transform the reviewed analysis into polished content on the topic: {research_topic}.\\n\\n\"\n",
        "        \"Ensure readability, tone, and engagement with clear formatting, examples, and simple explanations.\"\n",
        "    ),\n",
        "    expected_output=(\n",
        "        \"Final written content:\\n\"\n",
        "        \"- Clear, engaging draft\\n\"\n",
        "        \"- Well-structured sections\\n\"\n",
        "        \"- Audience-appropriate tone\"\n",
        "    ),\n",
        "    agent=writer_agent,\n",
        ")"
      ]
    },
    {
      "cell_type": "markdown",
      "metadata": {
        "id": "NahaW4I8zT4D"
      },
      "source": [
        "# Crew"
      ]
    },
    {
      "cell_type": "code",
      "execution_count": 41,
      "metadata": {
        "height": 98,
        "id": "c4NK-OkvzT4D",
        "colab": {
          "base_uri": "https://localhost:8080/"
        },
        "outputId": "ede2830d-7162-4409-9033-0419c1445a0a"
      },
      "outputs": [
        {
          "output_type": "stream",
          "name": "stderr",
          "text": [
            "WARNING:opentelemetry.trace:Overriding of current TracerProvider is not allowed\n"
          ]
        }
      ],
      "source": [
        "crew = Crew(\n",
        "    agents=[researcher_agent, analyst_agent, reviewer_agent, writer_agent],\n",
        "    tasks=[researcher_task, analyst_task, reviewer_task, writer_task],\n",
        "    verbose=2\n",
        ")"
      ]
    },
    {
      "cell_type": "markdown",
      "metadata": {
        "id": "3D7KgoEczT4E"
      },
      "source": [
        "# Kicking Off The Crew"
      ]
    },
    {
      "cell_type": "code",
      "execution_count": 42,
      "metadata": {
        "height": 30,
        "id": "9Zi7wrYmzT4E",
        "colab": {
          "base_uri": "https://localhost:8080/"
        },
        "outputId": "7d7e8827-f31b-4d1f-e5a0-54a61c1ea98a"
      },
      "outputs": [
        {
          "output_type": "stream",
          "name": "stdout",
          "text": [
            "\u001b[1m\u001b[95m [DEBUG]: == Working Agent: Researcher\u001b[00m\n",
            "\u001b[1m\u001b[95m [INFO]: == Starting Task: Researcher: Collect accurate, relevant, and diverse information about the topic: Artificial Intelligence in DevOps Role.\n",
            "\n",
            "Focus on trusted sources, highlight key facts, and organize findings in a clear and structured manner.\u001b[00m\n",
            "\n",
            "\n",
            "\u001b[1m> Entering new CrewAgentExecutor chain...\u001b[0m\n",
            "\u001b[32;1m\u001b[1;3mI now can give a great answer\n",
            "\n",
            "Final Answer:\n",
            "Artificial Intelligence (AI) is increasingly being integrated into the field of DevOps to enhance automation, efficiency, and decision-making processes. Here are some key facts and findings on the topic:\n",
            "\n",
            "Key Facts:\n",
            "1. AI in DevOps helps in automating routine tasks such as code testing, deployment, monitoring, and troubleshooting, thus allowing teams to focus on more strategic initiatives.\n",
            "2. Machine learning algorithms can analyze vast amounts of data generated in the DevOps pipeline to identify patterns, predict potential issues, and optimize performance.\n",
            "3. AI-powered tools can provide real-time insights into system performance, security threats, and user behavior, enabling proactive responses and continuous improvement.\n",
            "4. Chatbots and virtual assistants powered by AI can facilitate communication within DevOps teams, streamline collaboration, and provide instant support to developers.\n",
            "5. AI-driven predictive analytics can forecast software delivery timelines, resource requirements, and potential bottlenecks, helping in better planning and resource allocation.\n",
            "\n",
            "Relevant Data:\n",
            "- According to a study by Puppet, organizations that have successfully implemented AI in DevOps have reported a 60% reduction in deployment time and a 75% decrease in system downtime.\n",
            "- Gartner predicts that by 2023, 40% of DevOps teams will use AI and machine learning to support their continuous delivery toolchains, increasing productivity and efficiency.\n",
            "- A survey by New Relic found that 63% of DevOps professionals believe that AI and machine learning will play a significant role in the future of DevOps practices.\n",
            "\n",
            "Organized References:\n",
            "1. Puppet State of DevOps Report: https://puppet.com/resources/report/2019-state-of-devops-report/\n",
            "2. Gartner Research on AI in DevOps: https://www.gartner.com/en/information-technology\n",
            "3. New Relic Survey on DevOps and AI: https://newrelic.com/state-of-devops\n",
            "\n",
            "By leveraging AI in DevOps, organizations can accelerate software delivery, improve quality, and enhance collaboration among teams. The integration of AI technologies continues to revolutionize the DevOps landscape, making processes more efficient, agile, and data-driven.\u001b[0m\n",
            "\n",
            "\u001b[1m> Finished chain.\u001b[0m\n",
            "\u001b[1m\u001b[92m [DEBUG]: == [Researcher] Task output: Artificial Intelligence (AI) is increasingly being integrated into the field of DevOps to enhance automation, efficiency, and decision-making processes. Here are some key facts and findings on the topic:\n",
            "\n",
            "Key Facts:\n",
            "1. AI in DevOps helps in automating routine tasks such as code testing, deployment, monitoring, and troubleshooting, thus allowing teams to focus on more strategic initiatives.\n",
            "2. Machine learning algorithms can analyze vast amounts of data generated in the DevOps pipeline to identify patterns, predict potential issues, and optimize performance.\n",
            "3. AI-powered tools can provide real-time insights into system performance, security threats, and user behavior, enabling proactive responses and continuous improvement.\n",
            "4. Chatbots and virtual assistants powered by AI can facilitate communication within DevOps teams, streamline collaboration, and provide instant support to developers.\n",
            "5. AI-driven predictive analytics can forecast software delivery timelines, resource requirements, and potential bottlenecks, helping in better planning and resource allocation.\n",
            "\n",
            "Relevant Data:\n",
            "- According to a study by Puppet, organizations that have successfully implemented AI in DevOps have reported a 60% reduction in deployment time and a 75% decrease in system downtime.\n",
            "- Gartner predicts that by 2023, 40% of DevOps teams will use AI and machine learning to support their continuous delivery toolchains, increasing productivity and efficiency.\n",
            "- A survey by New Relic found that 63% of DevOps professionals believe that AI and machine learning will play a significant role in the future of DevOps practices.\n",
            "\n",
            "Organized References:\n",
            "1. Puppet State of DevOps Report: https://puppet.com/resources/report/2019-state-of-devops-report/\n",
            "2. Gartner Research on AI in DevOps: https://www.gartner.com/en/information-technology\n",
            "3. New Relic Survey on DevOps and AI: https://newrelic.com/state-of-devops\n",
            "\n",
            "By leveraging AI in DevOps, organizations can accelerate software delivery, improve quality, and enhance collaboration among teams. The integration of AI technologies continues to revolutionize the DevOps landscape, making processes more efficient, agile, and data-driven.\n",
            "\n",
            "\u001b[00m\n",
            "\u001b[1m\u001b[95m [DEBUG]: == Working Agent: Analyst\u001b[00m\n",
            "\u001b[1m\u001b[95m [INFO]: == Starting Task: Analyst: Analyze the information gathered by the Researcher on the topic: Artificial Intelligence in DevOps Role.\n",
            "\n",
            "Identify patterns, insights, and meaningful connections to make the data actionable and insightful.\u001b[00m\n",
            "\n",
            "\n",
            "\u001b[1m> Entering new CrewAgentExecutor chain...\u001b[0m\n",
            "\u001b[32;1m\u001b[1;3mI now can give a great answer\n",
            "\n",
            "Final Answer:\n",
            "After carefully analyzing the information provided on the topic of Artificial Intelligence in DevOps Role, several key insights, patterns, and connections have emerged. \n",
            "\n",
            "Key Insights:\n",
            "1. AI in DevOps streamlines routine tasks, allowing teams to focus on strategic initiatives.\n",
            "2. Machine learning algorithms analyze data to predict issues and optimize performance.\n",
            "3. AI tools offer real-time insights for proactive responses and continuous improvement.\n",
            "4. Chatbots and virtual assistants enhance communication and collaboration within DevOps teams.\n",
            "5. Predictive analytics powered by AI help in forecasting software delivery timelines and resource requirements.\n",
            "\n",
            "Patterns and Trends:\n",
            "1. Successful implementation of AI in DevOps leads to a significant reduction in deployment time and system downtime.\n",
            "2. The adoption of AI and machine learning in DevOps is projected to increase productivity and efficiency among DevOps teams.\n",
            "3. DevOps professionals acknowledge the growing importance of AI and machine learning in shaping the future of DevOps practices.\n",
            "\n",
            "Logical Connections:\n",
            "1. The use of AI in DevOps results in improved software delivery, quality, and team collaboration.\n",
            "2. AI technologies are transforming the DevOps landscape, making processes more efficient, agile, and data-driven.\n",
            "\n",
            "Overall, the integration of AI in DevOps presents a clear opportunity for organizations to enhance their software delivery processes and drive innovation within their teams. By leveraging AI technologies effectively, organizations can achieve greater efficiency, productivity, and collaboration in their DevOps practices.\u001b[0m\n",
            "\n",
            "\u001b[1m> Finished chain.\u001b[0m\n",
            "\u001b[1m\u001b[92m [DEBUG]: == [Analyst] Task output: After carefully analyzing the information provided on the topic of Artificial Intelligence in DevOps Role, several key insights, patterns, and connections have emerged. \n",
            "\n",
            "Key Insights:\n",
            "1. AI in DevOps streamlines routine tasks, allowing teams to focus on strategic initiatives.\n",
            "2. Machine learning algorithms analyze data to predict issues and optimize performance.\n",
            "3. AI tools offer real-time insights for proactive responses and continuous improvement.\n",
            "4. Chatbots and virtual assistants enhance communication and collaboration within DevOps teams.\n",
            "5. Predictive analytics powered by AI help in forecasting software delivery timelines and resource requirements.\n",
            "\n",
            "Patterns and Trends:\n",
            "1. Successful implementation of AI in DevOps leads to a significant reduction in deployment time and system downtime.\n",
            "2. The adoption of AI and machine learning in DevOps is projected to increase productivity and efficiency among DevOps teams.\n",
            "3. DevOps professionals acknowledge the growing importance of AI and machine learning in shaping the future of DevOps practices.\n",
            "\n",
            "Logical Connections:\n",
            "1. The use of AI in DevOps results in improved software delivery, quality, and team collaboration.\n",
            "2. AI technologies are transforming the DevOps landscape, making processes more efficient, agile, and data-driven.\n",
            "\n",
            "Overall, the integration of AI in DevOps presents a clear opportunity for organizations to enhance their software delivery processes and drive innovation within their teams. By leveraging AI technologies effectively, organizations can achieve greater efficiency, productivity, and collaboration in their DevOps practices.\n",
            "\n",
            "\u001b[00m\n",
            "\u001b[1m\u001b[95m [DEBUG]: == Working Agent: Reviewer\u001b[00m\n",
            "\u001b[1m\u001b[95m [INFO]: == Starting Task: Reviewer: Evaluate the analysis provided by the Analyst on the topic: Artificial Intelligence in DevOps Role.\n",
            "\n",
            "Check for accuracy, clarity, logical flow, and ensure there are no gaps, errors, or bias.\u001b[00m\n",
            "\n",
            "\n",
            "\u001b[1m> Entering new CrewAgentExecutor chain...\u001b[0m\n",
            "\u001b[32;1m\u001b[1;3mI now can give a great answer\n",
            "\n",
            "Final Answer: \n",
            "After reviewing the analysis provided by the Analyst on the topic of Artificial Intelligence in DevOps Role, I can confirm that the information presented is accurate, clear, and logically flows from key insights to patterns and trends, and logical connections. The insights highlighted the benefits of AI in DevOps, such as streamlining tasks, predicting issues, and enhancing communication. The patterns and trends indicated the positive impact of AI adoption on deployment time, productivity, and the future of DevOps practices. The logical connections emphasized how AI improves software delivery, quality, and team collaboration, transforming the DevOps landscape.\n",
            "\n",
            "However, there are some gaps that could be addressed to enhance the analysis further. For instance, providing specific examples of AI tools used in DevOps or case studies of successful AI implementation would add more depth to the analysis. Additionally, discussing potential challenges or limitations of integrating AI in DevOps could provide a more well-rounded perspective.\n",
            "\n",
            "To improve the analysis, I recommend incorporating more real-world examples, exploring potential challenges, and providing a more in-depth discussion on the implications of AI in DevOps for different industries. Overall, the analysis provides a solid foundation on the topic but could benefit from additional insights and perspectives to offer a comprehensive view of the subject.\u001b[0m\n",
            "\n",
            "\u001b[1m> Finished chain.\u001b[0m\n",
            "\u001b[1m\u001b[92m [DEBUG]: == [Reviewer] Task output: After reviewing the analysis provided by the Analyst on the topic of Artificial Intelligence in DevOps Role, I can confirm that the information presented is accurate, clear, and logically flows from key insights to patterns and trends, and logical connections. The insights highlighted the benefits of AI in DevOps, such as streamlining tasks, predicting issues, and enhancing communication. The patterns and trends indicated the positive impact of AI adoption on deployment time, productivity, and the future of DevOps practices. The logical connections emphasized how AI improves software delivery, quality, and team collaboration, transforming the DevOps landscape.\n",
            "\n",
            "However, there are some gaps that could be addressed to enhance the analysis further. For instance, providing specific examples of AI tools used in DevOps or case studies of successful AI implementation would add more depth to the analysis. Additionally, discussing potential challenges or limitations of integrating AI in DevOps could provide a more well-rounded perspective.\n",
            "\n",
            "To improve the analysis, I recommend incorporating more real-world examples, exploring potential challenges, and providing a more in-depth discussion on the implications of AI in DevOps for different industries. Overall, the analysis provides a solid foundation on the topic but could benefit from additional insights and perspectives to offer a comprehensive view of the subject.\n",
            "\n",
            "\u001b[00m\n",
            "\u001b[1m\u001b[95m [DEBUG]: == Working Agent: Writer\u001b[00m\n",
            "\u001b[1m\u001b[95m [INFO]: == Starting Task: Writer: Transform the reviewed analysis into polished content on the topic: Artificial Intelligence in DevOps Role.\n",
            "\n",
            "Ensure readability, tone, and engagement with clear formatting, examples, and simple explanations.\u001b[00m\n",
            "\n",
            "\n",
            "\u001b[1m> Entering new CrewAgentExecutor chain...\u001b[0m\n",
            "\u001b[32;1m\u001b[1;3mI now can give a great answer\n",
            "\n",
            "Final Answer: \n",
            "\n",
            "Artificial Intelligence (AI) is revolutionizing the field of DevOps by streamlining tasks, predicting issues, and enhancing communication. The adoption of AI in DevOps has shown positive impacts on deployment time, productivity, and the future of DevOps practices. By leveraging AI technologies, software delivery, quality, and team collaboration in DevOps are being transformed.\n",
            "\n",
            "To illustrate the benefits of AI in DevOps, let's consider an example of how AI-powered predictive analytics can help DevOps teams detect and address potential issues before they escalate. By analyzing historical data and patterns, AI algorithms can predict when a system is likely to fail, allowing teams to proactively address the issue and prevent downtime.\n",
            "\n",
            "Furthermore, AI tools such as machine learning algorithms and natural language processing are being used in DevOps to automate repetitive tasks, optimize workflows, and improve decision-making processes. These tools enable DevOps teams to focus on strategic initiatives and innovation rather than mundane tasks, ultimately increasing efficiency and productivity.\n",
            "\n",
            "While the advantages of AI in DevOps are clear, it is essential to acknowledge the potential challenges and limitations of integrating AI into existing workflows. For instance, concerns around data privacy, security, and the ethical use of AI technologies must be carefully addressed to ensure successful implementation in DevOps environments.\n",
            "\n",
            "In addition to discussing the benefits and challenges, it is crucial to explore real-world examples of AI tools used in DevOps and case studies of successful AI implementation. By providing concrete examples, DevOps practitioners can gain a better understanding of how AI technologies can be applied in their own workflows and projects.\n",
            "\n",
            "In conclusion, the integration of AI in DevOps is reshaping the way software is developed, tested, and deployed. By embracing AI technologies, DevOps teams can achieve higher levels of efficiency, quality, and collaboration, ultimately driving innovation and success in the ever-evolving landscape of software development.\u001b[0m\n",
            "\n",
            "\u001b[1m> Finished chain.\u001b[0m\n",
            "\u001b[1m\u001b[92m [DEBUG]: == [Writer] Task output: Artificial Intelligence (AI) is revolutionizing the field of DevOps by streamlining tasks, predicting issues, and enhancing communication. The adoption of AI in DevOps has shown positive impacts on deployment time, productivity, and the future of DevOps practices. By leveraging AI technologies, software delivery, quality, and team collaboration in DevOps are being transformed.\n",
            "\n",
            "To illustrate the benefits of AI in DevOps, let's consider an example of how AI-powered predictive analytics can help DevOps teams detect and address potential issues before they escalate. By analyzing historical data and patterns, AI algorithms can predict when a system is likely to fail, allowing teams to proactively address the issue and prevent downtime.\n",
            "\n",
            "Furthermore, AI tools such as machine learning algorithms and natural language processing are being used in DevOps to automate repetitive tasks, optimize workflows, and improve decision-making processes. These tools enable DevOps teams to focus on strategic initiatives and innovation rather than mundane tasks, ultimately increasing efficiency and productivity.\n",
            "\n",
            "While the advantages of AI in DevOps are clear, it is essential to acknowledge the potential challenges and limitations of integrating AI into existing workflows. For instance, concerns around data privacy, security, and the ethical use of AI technologies must be carefully addressed to ensure successful implementation in DevOps environments.\n",
            "\n",
            "In addition to discussing the benefits and challenges, it is crucial to explore real-world examples of AI tools used in DevOps and case studies of successful AI implementation. By providing concrete examples, DevOps practitioners can gain a better understanding of how AI technologies can be applied in their own workflows and projects.\n",
            "\n",
            "In conclusion, the integration of AI in DevOps is reshaping the way software is developed, tested, and deployed. By embracing AI technologies, DevOps teams can achieve higher levels of efficiency, quality, and collaboration, ultimately driving innovation and success in the ever-evolving landscape of software development.\n",
            "\n",
            "\u001b[00m\n"
          ]
        }
      ],
      "source": [
        "result = crew.kickoff(inputs={\"research_topic\": \"Artificial Intelligence in DevOps Role\"})"
      ]
    },
    {
      "cell_type": "code",
      "source": [
        "import datetime\n",
        "import os\n",
        "\n",
        "# generate timestamp\n",
        "timestamp = datetime.datetime.now().strftime(\"%Y-%m-%d_%H-%M-%S\")\n",
        "\n",
        "# fixed path you want\n",
        "output_dir = r\"C:\\Users\\SPrakash\\OneDrive - Tata Communications\\Sumit Prakash\\AI-ML\"\n",
        "\n",
        "# make sure folder exists\n",
        "os.makedirs(output_dir, exist_ok=True)\n",
        "\n",
        "# file path\n",
        "file_path = os.path.join(output_dir, f\"devops_result_{timestamp}.md\")\n",
        "\n",
        "# save the result\n",
        "with open(file_path, \"w\", encoding=\"utf-8\") as f:\n",
        "    f.write(f\"# Crew Research Result\\n\\n{result}\")\n",
        "\n",
        "print(f\"✅ Result saved to: {file_path}\")\n"
      ],
      "metadata": {
        "colab": {
          "base_uri": "https://localhost:8080/"
        },
        "id": "Ebq1ns4mk7__",
        "outputId": "2797d663-80ac-4dd7-9551-df17ecfbf6c7"
      },
      "execution_count": 43,
      "outputs": [
        {
          "output_type": "stream",
          "name": "stdout",
          "text": [
            "✅ Result saved to: C:\\Users\\SPrakash\\OneDrive - Tata Communications\\Sumit Prakash\\AI-ML/devops_result_2025-08-23_20-33-29.md\n"
          ]
        }
      ]
    },
    {
      "cell_type": "code",
      "execution_count": 44,
      "metadata": {
        "height": 47,
        "id": "0-9ulWvbzT4F",
        "colab": {
          "base_uri": "https://localhost:8080/",
          "height": 354
        },
        "outputId": "166d287c-d5c3-49ef-fb8d-229c4e705a64"
      },
      "outputs": [
        {
          "output_type": "execute_result",
          "data": {
            "text/plain": [
              "<IPython.core.display.Markdown object>"
            ],
            "text/markdown": "Artificial Intelligence (AI) is revolutionizing the field of DevOps by streamlining tasks, predicting issues, and enhancing communication. The adoption of AI in DevOps has shown positive impacts on deployment time, productivity, and the future of DevOps practices. By leveraging AI technologies, software delivery, quality, and team collaboration in DevOps are being transformed.\n\nTo illustrate the benefits of AI in DevOps, let's consider an example of how AI-powered predictive analytics can help DevOps teams detect and address potential issues before they escalate. By analyzing historical data and patterns, AI algorithms can predict when a system is likely to fail, allowing teams to proactively address the issue and prevent downtime.\n\nFurthermore, AI tools such as machine learning algorithms and natural language processing are being used in DevOps to automate repetitive tasks, optimize workflows, and improve decision-making processes. These tools enable DevOps teams to focus on strategic initiatives and innovation rather than mundane tasks, ultimately increasing efficiency and productivity.\n\nWhile the advantages of AI in DevOps are clear, it is essential to acknowledge the potential challenges and limitations of integrating AI into existing workflows. For instance, concerns around data privacy, security, and the ethical use of AI technologies must be carefully addressed to ensure successful implementation in DevOps environments.\n\nIn addition to discussing the benefits and challenges, it is crucial to explore real-world examples of AI tools used in DevOps and case studies of successful AI implementation. By providing concrete examples, DevOps practitioners can gain a better understanding of how AI technologies can be applied in their own workflows and projects.\n\nIn conclusion, the integration of AI in DevOps is reshaping the way software is developed, tested, and deployed. By embracing AI technologies, DevOps teams can achieve higher levels of efficiency, quality, and collaboration, ultimately driving innovation and success in the ever-evolving landscape of software development."
          },
          "metadata": {},
          "execution_count": 44
        }
      ],
      "source": [
        "from IPython.display import Markdown\n",
        "Markdown(result)"
      ]
    }
  ],
  "metadata": {
    "colab": {
      "gpuType": "T4",
      "provenance": [],
      "include_colab_link": true
    },
    "kernelspec": {
      "display_name": "Python 3 (ipykernel)",
      "language": "python",
      "name": "python3"
    },
    "language_info": {
      "codemirror_mode": {
        "name": "ipython",
        "version": 3
      },
      "file_extension": ".py",
      "mimetype": "text/x-python",
      "name": "python",
      "nbconvert_exporter": "python",
      "pygments_lexer": "ipython3",
      "version": "3.11.9"
    }
  },
  "nbformat": 4,
  "nbformat_minor": 0
}